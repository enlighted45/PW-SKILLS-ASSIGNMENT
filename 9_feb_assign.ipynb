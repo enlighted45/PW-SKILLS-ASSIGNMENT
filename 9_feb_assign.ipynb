{
 "cells": [
  {
   "cell_type": "markdown",
   "id": "18fbb433-3bbf-4961-94a5-1f2e965c1bf1",
   "metadata": {},
   "source": [
    "Q1, Create a vehicle class with an init method having instance variables as name_of_vehicle, max_speed\n",
    "and average_of_vehicle."
   ]
  },
  {
   "cell_type": "code",
   "execution_count": 12,
   "id": "a92284eb-65a8-4ea5-925b-9349d5fed15f",
   "metadata": {},
   "outputs": [],
   "source": [
    "class vehicle:\n",
    "    def __init__(self,name_of_vehicle,max_speed,average_of_vehicle):\n",
    "        self.name_of_vehicle=name_of_vehicle\n",
    "        self.max_speed=max_speed\n",
    "        self.average_of_vehicle=average_of_vehicle\n",
    "    def vehicle_detail(self):\n",
    "        return self.name_of_vehicle,self.max_speed,self.average_of_vehicle\n",
    "    "
   ]
  },
  {
   "cell_type": "code",
   "execution_count": 14,
   "id": "8fcc8420-530a-449c-9665-a1f7381da5db",
   "metadata": {},
   "outputs": [
    {
     "name": "stdout",
     "output_type": "stream",
     "text": [
      "300\n",
      "('B.M.W', 300, 50)\n"
     ]
    }
   ],
   "source": [
    "car = vehicle('B.M.W',300,50)\n",
    "print(car.max_speed)\n",
    "print(car.vehicle_detail())"
   ]
  },
  {
   "cell_type": "markdown",
   "id": "ba521cf3-adef-48f8-9a50-1b304e36d9ce",
   "metadata": {},
   "source": [
    "Q2. Create a child class car from the vehicle class created in Que 1, which will inherit the vehicle class.\n",
    "Create a method named seating_capacity which takes capacity as an argument and returns the name of\n",
    "the vehicle and its seating capacity."
   ]
  },
  {
   "cell_type": "code",
   "execution_count": 24,
   "id": "5ef18d38-f191-4bc1-ad04-af89ad126285",
   "metadata": {},
   "outputs": [],
   "source": [
    "class car(vehicle):\n",
    "    def seating_capacity(self,seating_capacity):\n",
    "        return self.name_of_vehicle,seating_capacity\n",
    "    \n",
    "    "
   ]
  },
  {
   "cell_type": "code",
   "execution_count": 25,
   "id": "bf82e34b-c452-4cae-9d30-196fbaa6f483",
   "metadata": {},
   "outputs": [],
   "source": [
    "car_obj = car('B.M.W',300,50)"
   ]
  },
  {
   "cell_type": "code",
   "execution_count": 26,
   "id": "e62dfe56-a34f-4d75-9279-29b27cfe029c",
   "metadata": {},
   "outputs": [
    {
     "name": "stdout",
     "output_type": "stream",
     "text": [
      "('B.M.W', 4)\n"
     ]
    }
   ],
   "source": [
    "print(car_obj.seating_capacity(4))"
   ]
  },
  {
   "cell_type": "markdown",
   "id": "b61f4f8c-6fc9-4de5-af9e-e5b3420db8fc",
   "metadata": {},
   "source": [
    "Q3. What is multiple inheritance? Write a python code to demonstrate multiple inheritance."
   ]
  },
  {
   "cell_type": "markdown",
   "id": "e2655d5a-c83f-4484-ac43-f88ba1fce0a0",
   "metadata": {},
   "source": [
    "Multiple inheritance is inheriting the property and method of other class \n",
    "and it is different from multilevel inheriting in multilevel inheriting you make parent class and then its child class and then it own subclass.\n"
   ]
  },
  {
   "cell_type": "code",
   "execution_count": 27,
   "id": "009ba2a0-cd72-4090-9a08-d4cfc4902898",
   "metadata": {},
   "outputs": [],
   "source": [
    "## multiple inheritance\n",
    "class parent1:\n",
    "    pass\n",
    "\n",
    "class parent2:\n",
    "    pass\n",
    "class child(parent1,parent2):\n",
    "    pass"
   ]
  },
  {
   "cell_type": "code",
   "execution_count": 28,
   "id": "2262477d-6e92-4926-a2e6-84af0fe8e138",
   "metadata": {},
   "outputs": [],
   "source": [
    "##mutiple inheritance\n",
    "class parent:\n",
    "    pass\n",
    "class child(parent):\n",
    "    pass\n",
    "class grand_child(child):\n",
    "    pass"
   ]
  },
  {
   "cell_type": "markdown",
   "id": "077d6b80-4fd4-4635-b62a-508375e33331",
   "metadata": {},
   "source": [
    "Q4. What are getter and setter in python? Create a class and create a getter and a setter method in this\n",
    "class."
   ]
  },
  {
   "cell_type": "markdown",
   "id": "3070a22d-cac3-4d48-bf37-ee957a397906",
   "metadata": {},
   "source": [
    "getter and setter give the access of private variable via method which seems like attribute or in the form of attribute\n",
    "    "
   ]
  },
  {
   "cell_type": "code",
   "execution_count": 30,
   "id": "ec321ed8-f61a-490c-8370-26406cb6e4b4",
   "metadata": {},
   "outputs": [],
   "source": [
    "class account:\n",
    "    def __init__(self,name,balance):\n",
    "        self.name = name\n",
    "        self.__balance = balance\n",
    "    @property ## to give right to see\n",
    "    def see_acc_bal(self):\n",
    "        return self.__balance\n",
    "    @see_acc_bal.setter\n",
    "    def set_acc_bal(self,value):\n",
    "        self.__balance = value\n",
    "    \n",
    "        "
   ]
  },
  {
   "cell_type": "code",
   "execution_count": 33,
   "id": "3ff68cb2-5c3b-4497-8c2f-c8593f03f673",
   "metadata": {},
   "outputs": [
    {
     "name": "stdout",
     "output_type": "stream",
     "text": [
      "100\n",
      "120\n"
     ]
    }
   ],
   "source": [
    "acc = account('bhavesh',100)\n",
    "print(acc.see_acc_bal)\n",
    "acc.set_acc_bal = 120\n",
    "print(acc.see_acc_bal)\n"
   ]
  },
  {
   "cell_type": "markdown",
   "id": "144d9def-1cdd-412d-b496-4147577b1f28",
   "metadata": {},
   "source": [
    "Q5.What is method overriding in python? Write a python code to demonstrate method overriding."
   ]
  },
  {
   "cell_type": "markdown",
   "id": "1ce23da5-c02b-43b4-bf87-58192cec3e1d",
   "metadata": {},
   "source": [
    "Suppose you make method which is same in both parent class and child class then child class method will overide the parent class method"
   ]
  },
  {
   "cell_type": "code",
   "execution_count": 35,
   "id": "a67d4fd0-2756-4d42-b698-8af2a59e18a5",
   "metadata": {},
   "outputs": [],
   "source": [
    "class shape:\n",
    "    def dimension(self):\n",
    "        print(\"it's shape method\")"
   ]
  },
  {
   "cell_type": "code",
   "execution_count": 37,
   "id": "373a6b00-c1b6-4dc3-b3a1-2823d30b31de",
   "metadata": {},
   "outputs": [],
   "source": [
    "class square(shape):\n",
    "    def dimension(self):\n",
    "        print(\"it's square method\")"
   ]
  },
  {
   "cell_type": "code",
   "execution_count": 41,
   "id": "5fa2a802-5728-47d5-a0ee-f7a2321310fb",
   "metadata": {},
   "outputs": [
    {
     "name": "stdout",
     "output_type": "stream",
     "text": [
      "it's square method\n",
      "None\n"
     ]
    }
   ],
   "source": [
    "sqr = square()\n",
    "print(sqr.dimension())"
   ]
  },
  {
   "cell_type": "code",
   "execution_count": null,
   "id": "ff85fd7d-576b-4a28-a17c-454daa20b0d4",
   "metadata": {},
   "outputs": [],
   "source": []
  }
 ],
 "metadata": {
  "kernelspec": {
   "display_name": "Python 3 (ipykernel)",
   "language": "python",
   "name": "python3"
  },
  "language_info": {
   "codemirror_mode": {
    "name": "ipython",
    "version": 3
   },
   "file_extension": ".py",
   "mimetype": "text/x-python",
   "name": "python",
   "nbconvert_exporter": "python",
   "pygments_lexer": "ipython3",
   "version": "3.10.8"
  }
 },
 "nbformat": 4,
 "nbformat_minor": 5
}
