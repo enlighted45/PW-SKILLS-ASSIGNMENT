{
 "cells": [
  {
   "cell_type": "markdown",
   "id": "7a62f920-5497-49bf-8410-37ae2c4dd007",
   "metadata": {},
   "source": [
    "Q1. Which keyword is used to create a function? Create a function to return a list of odd numbers in the\n",
    "range of 1 to 25."
   ]
  },
  {
   "cell_type": "markdown",
   "id": "0f7c5c35-8141-4cd9-902b-12be30454920",
   "metadata": {},
   "source": [
    "Ans- Keyword used  is def func_name():"
   ]
  },
  {
   "cell_type": "code",
   "execution_count": 5,
   "id": "ff20799e-aed3-43f0-88e1-60486f1c9e5a",
   "metadata": {},
   "outputs": [],
   "source": [
    "def oddnumber(a):\n",
    "    ans = []\n",
    "    for i in range(1,a):\n",
    "        if i%2!=0:\n",
    "            ans.append(i)\n",
    "    return ans\n"
   ]
  },
  {
   "cell_type": "code",
   "execution_count": 6,
   "id": "13bececc-3813-43f2-931e-804aeb9c069c",
   "metadata": {},
   "outputs": [
    {
     "data": {
      "text/plain": [
       "[1, 3, 5, 7, 9, 11, 13, 15, 17, 19, 21, 23]"
      ]
     },
     "execution_count": 6,
     "metadata": {},
     "output_type": "execute_result"
    }
   ],
   "source": [
    "oddnumber(25)"
   ]
  },
  {
   "cell_type": "markdown",
   "id": "b5373189-4e1c-4342-9d4e-c8d545696df8",
   "metadata": {},
   "source": [
    "Q2. Why *args and **kwargs is used in some functions? Create a function each for *args and **kwargs to\n",
    "demonstrate their use."
   ]
  },
  {
   "cell_type": "markdown",
   "id": "f6a13bc6-46b7-4ccd-91ac-d5fc86f5ca65",
   "metadata": {},
   "source": [
    "It is _*args_ used in function arguement when you want to many number of arguemnt an  don't know the upper bound on the no of arguement  "
   ]
  },
  {
   "cell_type": "markdown",
   "id": "86858f31-4989-410b-a0f1-f9c26c0549ab",
   "metadata": {},
   "source": [
    "IT is (**kwargs)  used when you want to take arguement in the form of key value pair "
   ]
  },
  {
   "cell_type": "markdown",
   "id": "19943f2b-0c79-411e-9154-fb35749e41a7",
   "metadata": {},
   "source": [
    "too much theory let take example"
   ]
  },
  {
   "cell_type": "code",
   "execution_count": 13,
   "id": "5e07a78b-3239-4f39-ac31-876bbd32942b",
   "metadata": {},
   "outputs": [
    {
     "data": {
      "text/plain": [
       "(1,\n",
       " 2,\n",
       " 3,\n",
       " 4,\n",
       " 5,\n",
       " 6,\n",
       " 'a',\n",
       " 'b',\n",
       " 'True',\n",
       " True,\n",
       " (1, 2, 3, 4, 5, 6, 8),\n",
       " {1, 2, 3},\n",
       " {1: 'a', 2: 'b'})"
      ]
     },
     "execution_count": 13,
     "metadata": {},
     "output_type": "execute_result"
    }
   ],
   "source": [
    "def args(*args):\n",
    "    return args \n",
    "args(1,2,3,4,5,6,\"a\",\"b\",\"True\",True,(1,2,3,4,5,6,8),{1,2,3},{1:\"a\",2:\"b\"})"
   ]
  },
  {
   "cell_type": "markdown",
   "id": "0ab2d8e2-79cc-468c-8c74-1f9212dbcdca",
   "metadata": {},
   "source": [
    "now after seeing the output you get the sense why we use it "
   ]
  },
  {
   "cell_type": "code",
   "execution_count": 21,
   "id": "535b3994-8166-4eaa-a287-e76e8a155917",
   "metadata": {},
   "outputs": [],
   "source": [
    "def kw_args(**kwargs):\n",
    "    return kwargs\n"
   ]
  },
  {
   "cell_type": "code",
   "execution_count": 26,
   "id": "1f7c938f-d120-4102-8fac-b590b7359669",
   "metadata": {},
   "outputs": [
    {
     "data": {
      "text/plain": [
       "{'f': 34, 'b': 56, 'c': 7}"
      ]
     },
     "execution_count": 26,
     "metadata": {},
     "output_type": "execute_result"
    }
   ],
   "source": [
    "kw_args(f=34,b=56,c=7)"
   ]
  },
  {
   "cell_type": "markdown",
   "id": "c4e5d75e-c1a0-4f94-8bea-22108d95544d",
   "metadata": {},
   "source": [
    "Q3. What is an iterator in python? Name the method used to initialise the iterator object and the method\n",
    "used for iteration. Use these methods to print the first five elements of the given list [2, 4, 6, 8, 10, 12, 14, 16,\n",
    "18, 20]."
   ]
  },
  {
   "cell_type": "markdown",
   "id": "5e6e8e2c-d18f-4bfa-816f-4c11f9b435e8",
   "metadata": {},
   "source": [
    "iterator are object that goes through (list,tuple dictionaries) sequentially through each element there is for loop and while loop which we know but there is another method _iter()_ and _next() which is used  "
   ]
  },
  {
   "cell_type": "code",
   "execution_count": 32,
   "id": "d0000db3-c30b-4b81-ad82-0866ca50f050",
   "metadata": {},
   "outputs": [
    {
     "name": "stdout",
     "output_type": "stream",
     "text": [
      "1\n",
      "2\n",
      "3\n",
      "4\n",
      "5\n"
     ]
    }
   ],
   "source": [
    "my_tuple = (1,2,3,4,5,6)\n",
    "Iter_use = iter(my_tuple)\n",
    "print(next(Iter_use))\n",
    "print(next(Iter_use))\n",
    "print(next(Iter_use))\n",
    "print(next(Iter_use))\n",
    "print(next(Iter_use))"
   ]
  },
  {
   "cell_type": "code",
   "execution_count": 33,
   "id": "777d426c-dcc9-4df4-b3dc-489fab85d418",
   "metadata": {},
   "outputs": [
    {
     "name": "stdout",
     "output_type": "stream",
     "text": [
      "2\n",
      "4\n",
      "6\n",
      "8\n",
      "10\n"
     ]
    }
   ],
   "source": [
    "# by using for loop\n",
    "list= [2, 4, 6, 8, 10, 12, 14, 16,18,20]\n",
    "for i in range(5):\n",
    "    print(list[i])\n",
    "\n"
   ]
  },
  {
   "cell_type": "code",
   "execution_count": 34,
   "id": "7c91efba-2310-446f-af89-a596837d831e",
   "metadata": {},
   "outputs": [
    {
     "name": "stdout",
     "output_type": "stream",
     "text": [
      "2\n",
      "4\n",
      "6\n",
      "8\n",
      "10\n"
     ]
    }
   ],
   "source": [
    "list= [2, 4, 6, 8, 10, 12, 14, 16,18,20]\n",
    "i=0\n",
    "while(i<5):\n",
    "    print(list[i])\n",
    "    i=i+1"
   ]
  },
  {
   "cell_type": "code",
   "execution_count": 36,
   "id": "9ef0eead-d9ba-4547-8877-6b2627974d1f",
   "metadata": {},
   "outputs": [
    {
     "name": "stdout",
     "output_type": "stream",
     "text": [
      "2\n",
      "4\n",
      "6\n",
      "8\n",
      "10\n"
     ]
    }
   ],
   "source": [
    "list1= [2, 4, 6, 8, 10, 12, 14, 16,18,20]\n",
    "mylist=iter(list1)\n",
    "for i in range(5):\n",
    "    print(next(mylist))"
   ]
  },
  {
   "cell_type": "code",
   "execution_count": 38,
   "id": "49768e3f-c5a6-453b-973e-6a162b1ca070",
   "metadata": {},
   "outputs": [
    {
     "name": "stdout",
     "output_type": "stream",
     "text": [
      "2\n",
      "4\n",
      "6\n",
      "8\n",
      "10\n"
     ]
    }
   ],
   "source": [
    "list1= [2, 4, 6, 8, 10, 12, 14, 16,18,20]\n",
    "mylist=iter(list1)\n",
    "i=0\n",
    "while(i<5):\n",
    "    print(next(mylist))\n",
    "    i=i+1"
   ]
  },
  {
   "cell_type": "markdown",
   "id": "e291694a-0a93-483b-8516-5338decba5b1",
   "metadata": {},
   "source": [
    "Q4. What is a generator function in python? Why yield keyword is used? Give an example of a generator\n",
    "function."
   ]
  },
  {
   "cell_type": "markdown",
   "id": "686a2c04-4b05-48e0-aa83-62d7f2db9088",
   "metadata": {},
   "source": [
    "Let me make you understand this by example suppose you want to print the first 50 fibonacci number in form of list , suppose your algorithm is exponential time complexity so it would take too much time to print that but suppose you can print something in step wise step fashion that what generator function provide it do thing in step wise sense.\n",
    "It is also space efficent because you just print and not storing it ."
   ]
  },
  {
   "cell_type": "markdown",
   "id": "591abf17-82c8-477f-a6dd-b4714dfe3a86",
   "metadata": {},
   "source": [
    "yield keyword any object convert turned it into generator object and return it to caller"
   ]
  },
  {
   "cell_type": "code",
   "execution_count": 19,
   "id": "81f996d6-f052-4bc0-b38f-0bd770c0abd7",
   "metadata": {},
   "outputs": [
    {
     "name": "stdout",
     "output_type": "stream",
     "text": [
      "0\n",
      "1\n",
      "2\n",
      "3\n",
      "4\n",
      "5\n",
      "6\n",
      "7\n",
      "8\n",
      "9\n"
     ]
    }
   ],
   "source": [
    "def genfunc(n):\n",
    "    for i in range(n):\n",
    "        yield i\n",
    "        \n",
    "for i in genfunc(10):\n",
    "    print(i)"
   ]
  },
  {
   "cell_type": "markdown",
   "id": "e731c628-62a2-4acf-8133-74e02c955d1e",
   "metadata": {},
   "source": [
    "Q5. Create a generator function for prime numbers less than 1000. Use the next() method to print the\n",
    "first 20 prime numbers."
   ]
  },
  {
   "cell_type": "code",
   "execution_count": 16,
   "id": "7088743f-307f-4691-ad1c-c06f111acb51",
   "metadata": {},
   "outputs": [],
   "source": [
    "## makinf a isprime function\n",
    "import math\n",
    "def is_prime(n):\n",
    "    i=2\n",
    "    while(i<=int(math.sqrt(n))):\n",
    "        if(n%i==0):\n",
    "            return False\n",
    "        i=i+1\n",
    "    return True\n",
    "        \n",
    "    "
   ]
  },
  {
   "cell_type": "code",
   "execution_count": 17,
   "id": "47730dc6-15d8-45ca-85c0-fcd2cc501d3c",
   "metadata": {},
   "outputs": [],
   "source": [
    "def gen_prime_func(n):\n",
    "    for i in range(2,n):\n",
    "        if is_prime(i):\n",
    "            yield i\n",
    "            \n",
    "    "
   ]
  },
  {
   "cell_type": "code",
   "execution_count": 18,
   "id": "3c199a62-d537-4178-bb82-2056652d34a6",
   "metadata": {},
   "outputs": [
    {
     "name": "stdout",
     "output_type": "stream",
     "text": [
      "2\n",
      "3\n",
      "5\n",
      "7\n",
      "11\n",
      "13\n",
      "17\n",
      "19\n",
      "23\n",
      "29\n",
      "31\n",
      "37\n",
      "41\n",
      "43\n",
      "47\n",
      "53\n",
      "59\n",
      "61\n",
      "67\n",
      "71\n",
      "73\n",
      "79\n",
      "83\n",
      "89\n",
      "97\n",
      "101\n",
      "103\n",
      "107\n",
      "109\n",
      "113\n",
      "127\n",
      "131\n",
      "137\n",
      "139\n",
      "149\n",
      "151\n",
      "157\n",
      "163\n",
      "167\n",
      "173\n",
      "179\n",
      "181\n",
      "191\n",
      "193\n",
      "197\n",
      "199\n",
      "211\n",
      "223\n",
      "227\n",
      "229\n",
      "233\n",
      "239\n",
      "241\n",
      "251\n",
      "257\n",
      "263\n",
      "269\n",
      "271\n",
      "277\n",
      "281\n",
      "283\n",
      "293\n",
      "307\n",
      "311\n",
      "313\n",
      "317\n",
      "331\n",
      "337\n",
      "347\n",
      "349\n",
      "353\n",
      "359\n",
      "367\n",
      "373\n",
      "379\n",
      "383\n",
      "389\n",
      "397\n",
      "401\n",
      "409\n",
      "419\n",
      "421\n",
      "431\n",
      "433\n",
      "439\n",
      "443\n",
      "449\n",
      "457\n",
      "461\n",
      "463\n",
      "467\n",
      "479\n",
      "487\n",
      "491\n",
      "499\n",
      "503\n",
      "509\n",
      "521\n",
      "523\n",
      "541\n",
      "547\n",
      "557\n",
      "563\n",
      "569\n",
      "571\n",
      "577\n",
      "587\n",
      "593\n",
      "599\n",
      "601\n",
      "607\n",
      "613\n",
      "617\n",
      "619\n",
      "631\n",
      "641\n",
      "643\n",
      "647\n",
      "653\n",
      "659\n",
      "661\n",
      "673\n",
      "677\n",
      "683\n",
      "691\n",
      "701\n",
      "709\n",
      "719\n",
      "727\n",
      "733\n",
      "739\n",
      "743\n",
      "751\n",
      "757\n",
      "761\n",
      "769\n",
      "773\n",
      "787\n",
      "797\n",
      "809\n",
      "811\n",
      "821\n",
      "823\n",
      "827\n",
      "829\n",
      "839\n",
      "853\n",
      "857\n",
      "859\n",
      "863\n",
      "877\n",
      "881\n",
      "883\n",
      "887\n",
      "907\n",
      "911\n",
      "919\n",
      "929\n",
      "937\n",
      "941\n",
      "947\n",
      "953\n",
      "967\n",
      "971\n",
      "977\n",
      "983\n",
      "991\n",
      "997\n"
     ]
    }
   ],
   "source": [
    "for i in gen_prime_func(1000):\n",
    "    print(i)"
   ]
  },
  {
   "cell_type": "markdown",
   "id": "06d53e6f-7b6b-4e1d-99cb-aa955e6e6617",
   "metadata": {},
   "source": [
    "Use the next() method to print the\n",
    "first 20 prime numbers."
   ]
  },
  {
   "cell_type": "code",
   "execution_count": 25,
   "id": "72df77b1-c034-4da6-a966-0f1436109ce2",
   "metadata": {},
   "outputs": [],
   "source": [
    "def prime_generator():\n",
    "    num =2\n",
    "    while True:\n",
    "        if is_prime(num):\n",
    "            yield num\n",
    "        num = num+1\n",
    "    \n",
    "\n"
   ]
  },
  {
   "cell_type": "code",
   "execution_count": 27,
   "id": "b6a3494e-e6f5-426d-bddd-0ecdc58d6763",
   "metadata": {},
   "outputs": [
    {
     "name": "stdout",
     "output_type": "stream",
     "text": [
      "2\n",
      "3\n",
      "5\n",
      "7\n",
      "11\n",
      "13\n",
      "17\n",
      "19\n",
      "23\n",
      "29\n",
      "31\n",
      "37\n",
      "41\n",
      "43\n",
      "47\n",
      "53\n",
      "59\n",
      "61\n",
      "67\n",
      "71\n"
     ]
    }
   ],
   "source": [
    "prime_num = prime_generator()\n",
    "for i in range(20):\n",
    "    print(next(prime_num))"
   ]
  },
  {
   "cell_type": "code",
   "execution_count": null,
   "id": "7fd32415-58aa-464e-b5f1-20cdc57bc2b5",
   "metadata": {},
   "outputs": [],
   "source": []
  }
 ],
 "metadata": {
  "kernelspec": {
   "display_name": "Python 3 (ipykernel)",
   "language": "python",
   "name": "python3"
  },
  "language_info": {
   "codemirror_mode": {
    "name": "ipython",
    "version": 3
   },
   "file_extension": ".py",
   "mimetype": "text/x-python",
   "name": "python",
   "nbconvert_exporter": "python",
   "pygments_lexer": "ipython3",
   "version": "3.10.8"
  }
 },
 "nbformat": 4,
 "nbformat_minor": 5
}
