{
 "cells": [
  {
   "cell_type": "raw",
   "id": "bfa1bff6-2719-4ffa-8446-6495e586728e",
   "metadata": {},
   "source": [
    "Q1. What are the characteristics of the tuples? Is tuple immutable?"
   ]
  },
  {
   "cell_type": "raw",
   "id": "35d6d746-5624-4910-b155-cdef543d473c",
   "metadata": {},
   "source": [
    "1.>Tuples are immutable datatype which means you can't update it means insertion deletetion of particular item but can delete it whole.\n",
    "2.>It can be used as password storage system.\n",
    "3.> It can be used as a key in dictionary .\n",
    "    "
   ]
  },
  {
   "cell_type": "markdown",
   "id": "59802c27-c50a-4c05-95df-2806ff677c9d",
   "metadata": {},
   "source": [
    "let me give you example by code "
   ]
  },
  {
   "cell_type": "code",
   "execution_count": 6,
   "id": "ec7074eb-e95e-4c30-84b2-7ee20b994d32",
   "metadata": {},
   "outputs": [],
   "source": [
    "l=(1,2,3,4,5,1,\"bhavesh\",\"ganguly\")"
   ]
  },
  {
   "cell_type": "code",
   "execution_count": 2,
   "id": "667ac834-dd0a-4e29-8ca9-e652aa957e9d",
   "metadata": {},
   "outputs": [
    {
     "ename": "TypeError",
     "evalue": "'tuple' object does not support item assignment",
     "output_type": "error",
     "traceback": [
      "\u001b[0;31m---------------------------------------------------------------------------\u001b[0m",
      "\u001b[0;31mTypeError\u001b[0m                                 Traceback (most recent call last)",
      "Cell \u001b[0;32mIn[2], line 1\u001b[0m\n\u001b[0;32m----> 1\u001b[0m \u001b[43ml\u001b[49m\u001b[43m[\u001b[49m\u001b[38;5;241;43m0\u001b[39;49m\u001b[43m]\u001b[49m\u001b[38;5;241m=\u001b[39m\u001b[38;5;241m2\u001b[39m\n",
      "\u001b[0;31mTypeError\u001b[0m: 'tuple' object does not support item assignment"
     ]
    }
   ],
   "source": [
    "l[0]=2"
   ]
  },
  {
   "cell_type": "markdown",
   "id": "79aa49c1-b11f-4f66-82b9-17e20bc3f7e5",
   "metadata": {},
   "source": [
    "Q2.>What are the two tuple methods in python? Give an example of each method. Give a reason why\n",
    "tuples have only two in-built methods as compared to Lists."
   ]
  },
  {
   "cell_type": "markdown",
   "id": "3355541d-535e-4628-b892-72585d6478bb",
   "metadata": {},
   "source": [
    "1.>l.count()- this method count the occurence of element in it."
   ]
  },
  {
   "cell_type": "code",
   "execution_count": 7,
   "id": "4d58a2fc-cfbb-4a44-bba9-26ee4294ef71",
   "metadata": {},
   "outputs": [
    {
     "data": {
      "text/plain": [
       "2"
      ]
     },
     "execution_count": 7,
     "metadata": {},
     "output_type": "execute_result"
    }
   ],
   "source": [
    "l.count(1)"
   ]
  },
  {
   "cell_type": "markdown",
   "id": "72e252dd-153a-4475-a7ad-90bbc5e3d50e",
   "metadata": {},
   "source": [
    "2.>l.index()- this method give you  index of first occurence of the element tuple."
   ]
  },
  {
   "cell_type": "code",
   "execution_count": 8,
   "id": "dc770010-27e2-4f00-a05a-5360b853ec82",
   "metadata": {},
   "outputs": [
    {
     "data": {
      "text/plain": [
       "0"
      ]
     },
     "execution_count": 8,
     "metadata": {},
     "output_type": "execute_result"
    }
   ],
   "source": [
    "l.index(1)"
   ]
  },
  {
   "cell_type": "raw",
   "id": "bcd5067c-ff71-441a-9d4c-7d6c22e28863",
   "metadata": {},
   "source": [
    "Q3.> Which collection datatypes in python do not allow duplicate items? Write a code using a set to remove\n",
    "duplicates from the given list.\n",
    "\n",
    "\n",
    "List = [1, 1, 1, 2, 1, 3, 1, 4, 2, 1, 2, 2, 2, 3, 2, 4, 3, 1, 3, 2, 3, 3, 3, 4, 4, 1, 4, 2, 4, 3, 4, 4]\n"
   ]
  },
  {
   "cell_type": "raw",
   "id": "76b809e5-2e2e-491a-a0a6-f889157df694",
   "metadata": {},
   "source": [
    "ans - set datatype don't allow the duplication of element "
   ]
  },
  {
   "cell_type": "code",
   "execution_count": 12,
   "id": "a81ff0fc-3539-42f8-b542-ec5409c9d2c8",
   "metadata": {},
   "outputs": [
    {
     "data": {
      "text/plain": [
       "[1, 2, 3, 4]"
      ]
     },
     "execution_count": 12,
     "metadata": {},
     "output_type": "execute_result"
    }
   ],
   "source": [
    "# code \n",
    "List = [1, 1, 1, 2, 1, 3, 1, 4, 2, 1, 2, 2, 2, 3, 2, 4, 3, 1, 3, 2, 3, 3, 3, 4, 4, 1, 4, 2, 4, 3, 4, 4]\n",
    "set_ = set(List)\n",
    "List = list(set_)\n",
    "List"
   ]
  },
  {
   "cell_type": "markdown",
   "id": "971f0246-ac58-45e3-b283-cf1bada71a2e",
   "metadata": {},
   "source": [
    "Q4.> Explain the difference between the union() and update() methods for a set. Give an example of\n",
    "each method."
   ]
  },
  {
   "cell_type": "markdown",
   "id": "413d95b8-e45d-4263-a23c-18e75492ae9c",
   "metadata": {},
   "source": [
    "Ans-syntax is set1.update(set2),set1.union(set2) the union method is just take take union of two set and doesn't update the the any of two set."
   ]
  },
  {
   "cell_type": "markdown",
   "id": "6430f005-43b3-414c-9dfd-364573765ec1",
   "metadata": {},
   "source": [
    "-the update methode take union of both set and and update the set1 that given in the example."
   ]
  },
  {
   "cell_type": "code",
   "execution_count": 18,
   "id": "eb9263cd-4144-489b-9dcd-1409e0f33073",
   "metadata": {},
   "outputs": [
    {
     "data": {
      "text/plain": [
       "{1, 11, 2, 3, 44656, 5, 565, 6, 7, 'Float', 'Integer', 'boolean', 'string'}"
      ]
     },
     "execution_count": 18,
     "metadata": {},
     "output_type": "execute_result"
    }
   ],
   "source": [
    "set1={1,11,2,3,3,44656,565,6,7,True,5,5}\n",
    "set2={\"string\",\"Integer\",\"Float\",\"boolean\"}\n",
    "set1.update(set2)\n",
    "\n",
    "\n",
    "set1 #now you see set1 has upadetd "
   ]
  },
  {
   "cell_type": "code",
   "execution_count": 20,
   "id": "da562f79-3e28-41d2-9cdd-66c47f8f793d",
   "metadata": {},
   "outputs": [
    {
     "name": "stdout",
     "output_type": "stream",
     "text": [
      "{1, 2, 3, 5, 6, 7, 11, 44656, 565}\n",
      "{'string', 'Float', 'boolean', 'Integer'}\n",
      "{1, 2, 3, 'Float', 5, 6, 7, 'string', 11, 'Integer', 44656, 565, 'boolean'}\n"
     ]
    }
   ],
   "source": [
    "set1={1,11,2,3,3,44656,565,6,7,True,5,5}\n",
    "set2={\"string\",\"Integer\",\"Float\",\"boolean\"}\n",
    "set3=set1.union(set2)\n",
    "print(set1) #this set1 has not update\n",
    "print(set2)  #this set1 has not update\n",
    "print(set3) # this is newly set that has created "
   ]
  },
  {
   "cell_type": "markdown",
   "id": "3adf7be5-6bc0-45e0-b1f8-fe623ab29690",
   "metadata": {},
   "source": [
    "Q5. What is a dictionary? Give an example. Also, state whether a dictionary is ordered or unordered."
   ]
  },
  {
   "cell_type": "markdown",
   "id": "1b771831-0200-4fca-b7df-f12f1cc6ab16",
   "metadata": {},
   "source": [
    "The dictionary is datatype which store value data in (key-value) pair and it is unordered "
   ]
  },
  {
   "cell_type": "markdown",
   "id": "ab2520a3-4c60-4285-a958-d72160918fc4",
   "metadata": {},
   "source": [
    "Q6.Can we create a nested dictionary? If so, please give an example by creating a simple one-level\n",
    "nested dictionary."
   ]
  },
  {
   "cell_type": "raw",
   "id": "a9476ac8-d950-41a7-8217-d88615dc6670",
   "metadata": {},
   "source": [
    "Ans - yes we can create a nested dictionary but dict should be in value place not in key place"
   ]
  },
  {
   "cell_type": "code",
   "execution_count": 21,
   "id": "a1ffb544-54f6-44d7-9fcf-c926a7b1fdae",
   "metadata": {},
   "outputs": [
    {
     "data": {
      "text/plain": [
       "{'String': {'name': 'Ganguly', 'email_id': 'singhganguly@gmail.com'},\n",
       " 'base': 2}"
      ]
     },
     "execution_count": 21,
     "metadata": {},
     "output_type": "execute_result"
    }
   ],
   "source": [
    "# EXAMPLE \n",
    "dict1={\"String\":{\"name\":\"Ganguly\",\"email_id\":\"singhganguly@gmail.com\"},\"base\":2}\n",
    "dict1"
   ]
  },
  {
   "cell_type": "code",
   "execution_count": 24,
   "id": "197aa117-0845-4a77-8825-7b5182b2d0a7",
   "metadata": {},
   "outputs": [
    {
     "ename": "TypeError",
     "evalue": "unhashable type: 'dict'",
     "output_type": "error",
     "traceback": [
      "\u001b[0;31m---------------------------------------------------------------------------\u001b[0m",
      "\u001b[0;31mTypeError\u001b[0m                                 Traceback (most recent call last)",
      "Cell \u001b[0;32mIn[24], line 1\u001b[0m\n\u001b[0;32m----> 1\u001b[0m dict1\u001b[38;5;241m=\u001b[39m{{\u001b[38;5;124m\"\u001b[39m\u001b[38;5;124mname\u001b[39m\u001b[38;5;124m\"\u001b[39m:\u001b[38;5;124m\"\u001b[39m\u001b[38;5;124mGanguly\u001b[39m\u001b[38;5;124m\"\u001b[39m,\u001b[38;5;124m\"\u001b[39m\u001b[38;5;124memail_id\u001b[39m\u001b[38;5;124m\"\u001b[39m:\u001b[38;5;124m\"\u001b[39m\u001b[38;5;124msinghganguly@gmail.com\u001b[39m\u001b[38;5;124m\"\u001b[39m}:\u001b[38;5;124m\"\u001b[39m\u001b[38;5;124mstring\u001b[39m\u001b[38;5;124m\"\u001b[39m,\u001b[38;5;124m\"\u001b[39m\u001b[38;5;124mbase\u001b[39m\u001b[38;5;124m\"\u001b[39m:\u001b[38;5;241m2\u001b[39m} \u001b[38;5;66;03m# dict as key\u001b[39;00m\n",
      "\u001b[0;31mTypeError\u001b[0m: unhashable type: 'dict'"
     ]
    }
   ],
   "source": [
    "dict1={{\"name\":\"Ganguly\",\"email_id\":\"singhganguly@gmail.com\"}:\"string\",\"base\":2} # dict as key"
   ]
  },
  {
   "cell_type": "markdown",
   "id": "3251d047-418c-4724-8197-cda69b36338a",
   "metadata": {},
   "source": [
    "you can see it above above it showing error"
   ]
  },
  {
   "cell_type": "markdown",
   "id": "b18d2b67-2857-4014-8386-8c8f5c9efa53",
   "metadata": {},
   "source": [
    "q7.>>. Using setdefault() method, create key named topics in the given dictionary and also add the value of\n",
    "the key as this list ['Python', 'Machine Learning’, 'Deep Learning']\n",
    "\n",
    "\n",
    "dict1 = {'language' : 'Python', 'course': 'Data Science Masters'}"
   ]
  },
  {
   "cell_type": "code",
   "execution_count": 25,
   "id": "30d28d13-b25d-4249-a89c-5af36ace04ee",
   "metadata": {},
   "outputs": [],
   "source": [
    "dict1 = {'language' : 'Python', 'course': 'Data Science Masters'}"
   ]
  },
  {
   "cell_type": "code",
   "execution_count": 28,
   "id": "bc0cfbf5-5ea3-4db7-a6bc-590809e3a3bb",
   "metadata": {},
   "outputs": [
    {
     "data": {
      "text/plain": [
       "['Python', 'Machine Learning', 'DeepLearning']"
      ]
     },
     "execution_count": 28,
     "metadata": {},
     "output_type": "execute_result"
    }
   ],
   "source": [
    "dict1.setdefault(\" named topics\",[\"Python\", \"Machine Learning\", \"DeepLearning\"])"
   ]
  },
  {
   "cell_type": "code",
   "execution_count": 29,
   "id": "21d5a7f7-26eb-4770-ae0f-c56174f56830",
   "metadata": {},
   "outputs": [
    {
     "data": {
      "text/plain": [
       "{'language': 'Python',\n",
       " 'course': 'Data Science Masters',\n",
       " ' named topics': ['Python', 'Machine Learning', 'DeepLearning']}"
      ]
     },
     "execution_count": 29,
     "metadata": {},
     "output_type": "execute_result"
    }
   ],
   "source": [
    "dict1"
   ]
  },
  {
   "cell_type": "raw",
   "id": "fd2ebdd7-6381-4685-8e20-6c4125caf554",
   "metadata": {},
   "source": [
    "Q8.>What are the three view objects in dictionaries? Use the three in-built methods in python to display\n",
    "these three view objects for the given dictionary.\n",
    "dict1 = {'Sport': 'Cricket' , 'Teams': ['India', 'Australia', 'England', 'South Africa', 'Sri Lanka', 'New Zealand']}"
   ]
  },
  {
   "cell_type": "markdown",
   "id": "771f8ae8-7518-4bf5-8160-faad478c3867",
   "metadata": {},
   "source": [
    "the first view is simple it ust shows key and value simulatneously"
   ]
  },
  {
   "cell_type": "markdown",
   "id": "8568084d-8e17-4de3-b020-cdad5778a10a",
   "metadata": {},
   "source": [
    "dict1 = {'Sport': 'Cricket' , 'Teams': ['India', 'Australia', 'England', 'South Africa', 'Sri Lanka', 'New Zealand']}\n",
    "dict1"
   ]
  },
  {
   "cell_type": "markdown",
   "id": "6825cde8-e654-40b3-bce0-cfeebf90fe57",
   "metadata": {},
   "source": [
    "dict1.keys() this method gives list datatype of keys in dictionary "
   ]
  },
  {
   "cell_type": "code",
   "execution_count": 32,
   "id": "ae2970ff-1b89-4b74-b6ab-90e3956e65f1",
   "metadata": {},
   "outputs": [
    {
     "data": {
      "text/plain": [
       "dict_keys(['Sport', 'Teams'])"
      ]
     },
     "execution_count": 32,
     "metadata": {},
     "output_type": "execute_result"
    }
   ],
   "source": [
    "dict1.keys()"
   ]
  },
  {
   "cell_type": "markdown",
   "id": "1fdc6300-4f6c-4390-93ac-4b7f379c2fb3",
   "metadata": {},
   "source": [
    "dict1.values() gives list of values in dictionary"
   ]
  },
  {
   "cell_type": "markdown",
   "id": "84623552-3bf7-40d3-a04d-1bf7e88b92a2",
   "metadata": {},
   "source": [
    "dict1.values()"
   ]
  }
 ],
 "metadata": {
  "kernelspec": {
   "display_name": "Python 3 (ipykernel)",
   "language": "python",
   "name": "python3"
  },
  "language_info": {
   "codemirror_mode": {
    "name": "ipython",
    "version": 3
   },
   "file_extension": ".py",
   "mimetype": "text/x-python",
   "name": "python",
   "nbconvert_exporter": "python",
   "pygments_lexer": "ipython3",
   "version": "3.10.8"
  }
 },
 "nbformat": 4,
 "nbformat_minor": 5
}
