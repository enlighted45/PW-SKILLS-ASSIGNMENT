{
 "cells": [
  {
   "cell_type": "markdown",
   "id": "465d4e2a-bc20-4bd2-ae91-252da5971246",
   "metadata": {},
   "source": [
    "1. write a program to accept a percentage problem.\n"
   ]
  },
  {
   "cell_type": "code",
   "execution_count": 17,
   "id": "10711ed5-6e8b-4617-bf4d-94b2a2689e56",
   "metadata": {},
   "outputs": [
    {
     "name": "stdout",
     "output_type": "stream",
     "text": [
      "Enter your marks in percentage :  59\n"
     ]
    },
    {
     "name": "stdout",
     "output_type": "stream",
     "text": [
      "your grade is D\n"
     ]
    }
   ],
   "source": [
    "marks=int(input(\"Enter your marks in percentage : \"))\n",
    "if marks>90:\n",
    "    print(\"your grade is {}\".format(\"A\"))\n",
    "elif marks<=90 and marks>=60:\n",
    "    if marks<=90 and marks>80:\n",
    "        print(\"your grade is {}\".format(\"B\"))\n",
    "    else:\n",
    "        print(\"your grade is {}\".format(\"C\"))\n",
    "else:\n",
    "    print(\"your grade is {}\".format(\"D\"))\n",
    "    "
   ]
  },
  {
   "cell_type": "markdown",
   "id": "54521cfe-d07a-4b85-8499-1b3433cb2a25",
   "metadata": {},
   "source": [
    "2. write a program to accept the cost price of bike an put the taxes out\n"
   ]
  },
  {
   "cell_type": "code",
   "execution_count": 20,
   "id": "645a2df3-8e68-4e58-8b20-7f88a71cdb4b",
   "metadata": {},
   "outputs": [
    {
     "name": "stdout",
     "output_type": "stream",
     "text": [
      "Enter your bike price :  500001\n"
     ]
    },
    {
     "name": "stdout",
     "output_type": "stream",
     "text": [
      "your bike price is : 500001, tax on bike is : 75000.15\n"
     ]
    }
   ],
   "source": [
    "bike_price=int(input(\"Enter your bike price : \"))\n",
    "if bike_price>100000:\n",
    "    print(\"your bike price is : {}, tax on bike is : {}\".format(bike_price,0.15*bike_price))\n",
    "elif bike_price<=100000 and bike_price>50000:\n",
    "    print(\" your bike price is : {}, tax on bike is : {}\".format(bike_price,0.1*bike_price))\n",
    "else:\n",
    "    print(\" your bike price is : {}, tax on bike is : {}\".format(bike_price,0.05*bike_price))\n",
    "    \n",
    "    "
   ]
  },
  {
   "cell_type": "markdown",
   "id": "f8ebdd17-60a1-4de8-aee5-3b5e119d9b87",
   "metadata": {},
   "source": [
    "3. Accept any city from the user and display its monument"
   ]
  },
  {
   "cell_type": "code",
   "execution_count": 27,
   "id": "e7d922cd-456b-4852-bcbc-fc04928ffebf",
   "metadata": {},
   "outputs": [
    {
     "name": "stdout",
     "output_type": "stream",
     "text": [
      "enter the city with first letter capital  :  Bareilly\n"
     ]
    },
    {
     "name": "stdout",
     "output_type": "stream",
     "text": [
      "your city is Bareilly not in the database\n"
     ]
    }
   ],
   "source": [
    "city = str(input(\"enter the city with first letter capital  : \"))\n",
    "if city==\"Delhi\":\n",
    "    print(\"your city is {} and it's monument is {} .\".format(city,\"Red fort\"))\n",
    "elif city==\"Agra\" or city==\"Jaipur\":\n",
    "    if city==\"Agra\":\n",
    "        print(\"your city is {} and it's  monument is {}.\".format(city,\"Taj Mahal\"))\n",
    "    else:\n",
    "        print(\"your city is {} and it's  monument is {}.\".format(city, \"Jal Mahal\"))\n",
    "else:\n",
    "    print(\"your city is {} not in the database\".format(city))\n",
    "\n",
    "\n"
   ]
  },
  {
   "cell_type": "markdown",
   "id": "e405166f-687e-4b0d-a49d-40db90477965",
   "metadata": {},
   "source": [
    "4. Check how many times a number can be divided before it is equal to zero."
   ]
  },
  {
   "cell_type": "code",
   "execution_count": 8,
   "id": "fff733f1-0ded-4849-9151-53645b4375f0",
   "metadata": {},
   "outputs": [
    {
     "name": "stdout",
     "output_type": "stream",
     "text": [
      "Enter a number : 729\n"
     ]
    },
    {
     "name": "stdout",
     "output_type": "stream",
     "text": [
      "the number 729 can be divided by 6 times before its equal to zero\n"
     ]
    }
   ],
   "source": [
    "num = int(input(\"Enter a number :\"))\n",
    "copy = num\n",
    "count = 0\n",
    "while(num>0):\n",
    "    count = count+1\n",
    "    num = int(num/3)\n",
    "    \n",
    "\n",
    "print(\"the number {} can be divided by {} times before its equal to zero\".format(copy,count-1))"
   ]
  },
  {
   "cell_type": "markdown",
   "id": "bc6f2900-6c1c-4ef1-bf82-6e7b58c8de02",
   "metadata": {},
   "source": [
    "5. why and when to use while loop in python ?\n",
    "\n"
   ]
  },
  {
   "cell_type": "markdown",
   "id": "557e8956-484b-4b4d-8904-f19d7c934fe8",
   "metadata": {},
   "source": [
    ".>>when you don't know how many times your loop will run untill the specific condition will hit."
   ]
  },
  {
   "cell_type": "markdown",
   "id": "1d8a0ff5-e35a-496a-a4c6-02fa0f5a6b1e",
   "metadata": {},
   "source": [
    "6.>use a nested while loop to print three pattern \n"
   ]
  },
  {
   "cell_type": "markdown",
   "id": "c78c074b-fbac-4f47-a10d-93622d02c419",
   "metadata": {},
   "source": [
    "        *\n",
    "       ***\n",
    "      *****\n",
    "     *******\n",
    "    ********* "
   ]
  },
  {
   "cell_type": "code",
   "execution_count": 9,
   "id": "6348655e-515b-459d-8f88-e68a171c868f",
   "metadata": {},
   "outputs": [
    {
     "name": "stdout",
     "output_type": "stream",
     "text": [
      "enter no of row  10\n"
     ]
    },
    {
     "name": "stdout",
     "output_type": "stream",
     "text": [
      "         *\n",
      "        ***\n",
      "       *****\n",
      "      *******\n",
      "     *********\n",
      "    ***********\n",
      "   *************\n",
      "  ***************\n",
      " *****************\n",
      "*******************\n"
     ]
    }
   ],
   "source": [
    "n = int(input(\"enter no of row \"))\n",
    "row =1\n",
    "while(row<=n):\n",
    "    col=1\n",
    "    while(col<=n-row):\n",
    "        print(\" \",end='')\n",
    "        col=col+1\n",
    "    col2=1    \n",
    "    while(col2<=2*row-1):\n",
    "        print(\"*\",end='')\n",
    "        col2=col2+1\n",
    "    print()\n",
    "    row=row+1\n",
    "        \n",
    "    \n"
   ]
  },
  {
   "cell_type": "markdown",
   "id": "f37ed418-1aa2-464d-8603-538a86be736c",
   "metadata": {},
   "source": [
    "Pattern 2 "
   ]
  },
  {
   "cell_type": "markdown",
   "id": "1e5e8cd4-853c-404a-b2d4-e5a86673c292",
   "metadata": {},
   "source": [
    "         *\n",
    "        * *\n",
    "       * * *\n",
    "      * * * *\n",
    "     * * * * *"
   ]
  },
  {
   "cell_type": "code",
   "execution_count": 13,
   "id": "c9ad2a3d-fc1d-4b32-8ead-12a901dbf74b",
   "metadata": {},
   "outputs": [
    {
     "name": "stdout",
     "output_type": "stream",
     "text": [
      "enter no of row  5\n"
     ]
    },
    {
     "name": "stdout",
     "output_type": "stream",
     "text": [
      "    * \n",
      "   * * \n",
      "  * * * \n",
      " * * * * \n",
      "* * * * * \n"
     ]
    }
   ],
   "source": [
    "n = int(input(\"enter no of row \"))\n",
    "row =1\n",
    "while(row<=n):\n",
    "    col=1\n",
    "    while(col<=n-row):\n",
    "        print(\" \",end='')\n",
    "        col=col+1\n",
    "    col2=1    \n",
    "    while(col2<=row):\n",
    "        print(\"*\",end=' ')\n",
    "        col2=col2+1\n",
    "    print()\n",
    "    row=row+1"
   ]
  },
  {
   "cell_type": "markdown",
   "id": "3971509b-32d8-4fd9-b700-9b02b84090e2",
   "metadata": {},
   "source": [
    "pattern 3 \n"
   ]
  },
  {
   "cell_type": "markdown",
   "id": "2abe79f6-557b-413f-8dbf-c6d17562da59",
   "metadata": {},
   "source": [
    "            1\n",
    "          2 1 2\n",
    "        3 2 1 2 3\n",
    "      4 3 2 1 2 3 4\n",
    "    5 4 3 2 1 2 3 4 5             "
   ]
  },
  {
   "cell_type": "code",
   "execution_count": 14,
   "id": "f05f128a-811e-4701-adce-89603bc8dd75",
   "metadata": {},
   "outputs": [
    {
     "name": "stdout",
     "output_type": "stream",
     "text": [
      "enter no of row  9\n"
     ]
    },
    {
     "name": "stdout",
     "output_type": "stream",
     "text": [
      "                1 \n",
      "              2 1 2 \n",
      "            3 2 1 2 3 \n",
      "          4 3 2 1 2 3 4 \n",
      "        5 4 3 2 1 2 3 4 5 \n",
      "      6 5 4 3 2 1 2 3 4 5 6 \n",
      "    7 6 5 4 3 2 1 2 3 4 5 6 7 \n",
      "  8 7 6 5 4 3 2 1 2 3 4 5 6 7 8 \n",
      "9 8 7 6 5 4 3 2 1 2 3 4 5 6 7 8 9 \n"
     ]
    }
   ],
   "source": [
    "n = int(input(\"enter no of row \"))\n",
    "row =1\n",
    "while(row<=n):\n",
    "    col=1\n",
    "    while(col<=2*(n-row)):\n",
    "        print(\" \",end='')\n",
    "        col=col+1\n",
    "    col2=row    \n",
    "    while(col2>0):\n",
    "        print(col2,end=' ')\n",
    "        col2=col2-1\n",
    "    col3=2    \n",
    "    while(col3<=row):\n",
    "        print(col3,end=' ')\n",
    "        col3=col3+1\n",
    "    print()\n",
    "    row=row+1"
   ]
  },
  {
   "cell_type": "markdown",
   "id": "0a99cb6b-feb4-436b-a800-8aec7e766d79",
   "metadata": {},
   "source": [
    " 7 .> Reverse a while loop to display a number from 10 to 1"
   ]
  },
  {
   "cell_type": "code",
   "execution_count": 15,
   "id": "5698a1c5-3cd6-49a0-bc60-8e6206bbb381",
   "metadata": {},
   "outputs": [
    {
     "name": "stdout",
     "output_type": "stream",
     "text": [
      " enter a number  10\n"
     ]
    },
    {
     "name": "stdout",
     "output_type": "stream",
     "text": [
      "10\n",
      "9\n",
      "8\n",
      "7\n",
      "6\n",
      "5\n",
      "4\n",
      "3\n",
      "2\n",
      "1\n"
     ]
    }
   ],
   "source": [
    "num = int(input(\" enter a number \"))\n",
    "while(num>0):\n",
    "    print(num)\n",
    "    num = num-1"
   ]
  },
  {
   "cell_type": "code",
   "execution_count": null,
   "id": "a7bada86-9969-462a-9d54-af9fa19ba6e2",
   "metadata": {},
   "outputs": [],
   "source": []
  }
 ],
 "metadata": {
  "kernelspec": {
   "display_name": "Python 3 (ipykernel)",
   "language": "python",
   "name": "python3"
  },
  "language_info": {
   "codemirror_mode": {
    "name": "ipython",
    "version": 3
   },
   "file_extension": ".py",
   "mimetype": "text/x-python",
   "name": "python",
   "nbconvert_exporter": "python",
   "pygments_lexer": "ipython3",
   "version": "3.10.8"
  }
 },
 "nbformat": 4,
 "nbformat_minor": 5
}
