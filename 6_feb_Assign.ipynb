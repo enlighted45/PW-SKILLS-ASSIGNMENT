{
 "cells": [
  {
   "cell_type": "markdown",
   "id": "5ffbd9b0-f3dc-4f5a-92d9-3453c66f6c25",
   "metadata": {},
   "source": [
    "Q1. Create a function which will take a list as an argument and return the product of all the numbers\n",
    "after creating a flat list.\n",
    "Use the below-given list as an argument for your function.\n",
    "list1 = [1,2,3,4, [44,55,66, True], False, (34,56,78,89,34), {1,2,3,3,2,1}, {1:34, \"key2\": [55, 67, 78, 89], 4: (45,\n",
    "22, 61, 34)}, [56, 'data science'], 'Machine Learning']"
   ]
  },
  {
   "cell_type": "code",
   "execution_count": 15,
   "id": "9b1d6e4e-a465-4a3d-8a95-7b882e3769c3",
   "metadata": {},
   "outputs": [],
   "source": [
    "list1 = [1,2,3,4, [44,55,66, True], False, (34,56,78,89,34), {1,2,3,3,2,1}, {1:34, \"key2\": [55, 67, 78, 89], 4: (45,\n",
    "22, 61, 34)}, [56, 'data science'], 'Machine Learning']\n"
   ]
  },
  {
   "cell_type": "code",
   "execution_count": 13,
   "id": "d5cf9ecd-7ea2-424c-8534-b07dc8880f85",
   "metadata": {},
   "outputs": [],
   "source": [
    "# first making function if type is list tuple and set to extrat a numeric value from them\n",
    "def soln(l):\n",
    "    new=[]\n",
    "    for i in l:\n",
    "        if type(i) == int or type(i)== float:\n",
    "            new.append(i)\n",
    "        elif type(i)==list or type(i)==set or type(i)==tuple:\n",
    "            for j in i:\n",
    "                if type(j)==int or type(j)==float:\n",
    "                    new.append(j)\n",
    "        if type(i)==dict:\n",
    "            keys = list(i.keys())\n",
    "            values = list(i.values())\n",
    "            for index in values:\n",
    "                if type(index) == int or type(index)== float:\n",
    "                    new.append(index)\n",
    "                elif type(index)==list or type(index)==set or type(index)==tuple:\n",
    "                    for j2 in index:\n",
    "                        if type(j2)==int or type(j2)==float:\n",
    "                            new.append(j2)\n",
    "            for index2 in keys:\n",
    "                if type(index2) == int or type(index2)== float:\n",
    "                    new.append(index2)\n",
    "                elif type(index2)==list or type(index2)==set or type(index2)==tuple:\n",
    "                    for j3 in index:\n",
    "                        if type(j3)==int or type(j3)==float:\n",
    "                            new.append(j3)\n",
    "    return new\n",
    "                \n",
    "            \n",
    "                    "
   ]
  },
  {
   "cell_type": "code",
   "execution_count": 19,
   "id": "759bb749-ebab-4af2-a9a7-6b0daa5a614a",
   "metadata": {},
   "outputs": [
    {
     "name": "stdout",
     "output_type": "stream",
     "text": [
      "[1, 2, 3, 4, 44, 55, 66, 34, 56, 78, 89, 34, 1, 2, 3, 34, 55, 67, 78, 89, 45, 22, 61, 34, 1, 4, 56]\n"
     ]
    },
    {
     "data": {
      "text/plain": [
       "4134711838987085478833841242112000"
      ]
     },
     "execution_count": 19,
     "metadata": {},
     "output_type": "execute_result"
    }
   ],
   "source": [
    "print(soln(list1)) ## it will not when the key of dictionary is also the dictionary\n",
    "from functools import reduce\n",
    "reduce(lambda x,y: x*y ,soln(list1) )"
   ]
  },
  {
   "cell_type": "markdown",
   "id": "549bf036-2a29-4c8f-b81d-ffcbc84bd3db",
   "metadata": {},
   "source": [
    "Q2. Write a python program for encrypting a message sent to you by your friend. The logic of encryption\n",
    "should be such that, for a the output should be z. For b, the output should be y. For c, the output should\n",
    "be x respectively. Also, the whitespace should be replaced with a dollar sign. Keep the punctuation\n",
    "marks unchanged.\n",
    "Input Sentence: I want to become a Data Scientist.\n",
    "Encrypt the above input sentence using the program you just created.\n",
    "Note: Convert the given input sentence into lowercase before encrypting. The final output should be\n",
    "lowercase."
   ]
  },
  {
   "cell_type": "code",
   "execution_count": 33,
   "id": "60aa6537-4ea2-4844-b170-91a3731c3d1c",
   "metadata": {},
   "outputs": [],
   "source": [
    "def encrypt(inp):\n",
    "    inp = inp.lower()\n",
    "    enc = \"\"\n",
    "    for i in inp:\n",
    "        if ord(i)==32:\n",
    "            enc= enc+\" \"\n",
    "        else:\n",
    "            enc = enc + chr(25-ord(i)+97+97)\n",
    "    return enc\n",
    "    "
   ]
  },
  {
   "cell_type": "code",
   "execution_count": 40,
   "id": "a1684c92-2b40-4ce5-bc11-c7a0880e7048",
   "metadata": {},
   "outputs": [],
   "source": [
    "def decrypt(inp):\n",
    "    return encrypt(inp)\n",
    "\n"
   ]
  },
  {
   "cell_type": "code",
   "execution_count": 43,
   "id": "15122e49-d02e-4126-8c0c-34351492983c",
   "metadata": {},
   "outputs": [
    {
     "name": "stdout",
     "output_type": "stream",
     "text": [
      "r dzmg gl yvxlnv z wzgz hxrvmgrhg\n",
      "i want to become a data scientist\n"
     ]
    }
   ],
   "source": [
    "inp = \"I want to become a Data Scientist\"\n",
    "print(encrypt(inp))\n",
    "print(decrypt(encrypt(inp)))"
   ]
  },
  {
   "cell_type": "code",
   "execution_count": null,
   "id": "e36d6f9c-2d73-4a66-a99f-642ee07e16a3",
   "metadata": {},
   "outputs": [],
   "source": []
  }
 ],
 "metadata": {
  "kernelspec": {
   "display_name": "Python 3 (ipykernel)",
   "language": "python",
   "name": "python3"
  },
  "language_info": {
   "codemirror_mode": {
    "name": "ipython",
    "version": 3
   },
   "file_extension": ".py",
   "mimetype": "text/x-python",
   "name": "python",
   "nbconvert_exporter": "python",
   "pygments_lexer": "ipython3",
   "version": "3.10.8"
  }
 },
 "nbformat": 4,
 "nbformat_minor": 5
}
