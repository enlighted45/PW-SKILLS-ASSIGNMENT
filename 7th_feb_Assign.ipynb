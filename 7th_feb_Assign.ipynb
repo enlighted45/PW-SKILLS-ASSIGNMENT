{
 "cells": [
  {
   "cell_type": "markdown",
   "id": "a4e97139-5010-4b81-b99c-f47be7821eb5",
   "metadata": {},
   "source": [
    "Q1. You are writing code for a company. The requirement of the company is that you create a python\n",
    "function that will check whether the password entered by the user is correct or not. The function should\n",
    "take the password as input and return the string “Valid Password” if the entered password follows the\n",
    "below-given password guidelines else it should return “Invalid Password”.\n",
    "Note: 1. The Password should contain at least two uppercase letters and at least two lowercase letters.\n",
    "2. The Password should contain at least a number and three special characters.\n",
    "3. The length of the password should be 10 characters long."
   ]
  },
  {
   "cell_type": "code",
   "execution_count": 5,
   "id": "d3dc8171-1c25-4b4b-8603-dec15fec5f0e",
   "metadata": {},
   "outputs": [],
   "source": [
    "def upper_lower(string):\n",
    "    count_lower=0\n",
    "    count_upper=0\n",
    "    for index in string:\n",
    "        if index.isupper():\n",
    "            count_upper=count_upper+1\n",
    "        elif index.islower():\n",
    "            count_lower = count_lower+1\n",
    "        if count_lower>1 and count_upper>1:\n",
    "            return True\n",
    "    return False\n",
    "   "
   ]
  },
  {
   "cell_type": "code",
   "execution_count": 4,
   "id": "916e28e4-14f5-4dd0-8f65-9ab480ea9c6c",
   "metadata": {},
   "outputs": [],
   "source": [
    "def num_spl(string):\n",
    "    count_spl=0\n",
    "    count_num =0\n",
    "    for index in string:\n",
    "        if 48<=ord(index)<=57:\n",
    "            count_num = count_num+1\n",
    "        elif 91<=ord(index)<=96 or 57<ord(index)<65 or ord(index)<48 or ord(index)>122 :\n",
    "            count_spl= count_spl+1\n",
    "        if count_spl>=3 and count_num>=1:\n",
    "            return True\n",
    "    return False"
   ]
  },
  {
   "cell_type": "code",
   "execution_count": 2,
   "id": "1adeefc2-54a8-415b-839d-9ecd6fee5221",
   "metadata": {},
   "outputs": [],
   "source": [
    "def password(string):\n",
    "    if num_spl(string) and upper_lower(string) and len(string)==10:\n",
    "        return \"valid password\"\n",
    "    return \"invalid password\"\n"
   ]
  },
  {
   "cell_type": "code",
   "execution_count": 6,
   "id": "fb7de516-50e5-439d-9e5a-beb9f41b22dd",
   "metadata": {},
   "outputs": [
    {
     "data": {
      "text/plain": [
       "'valid password'"
      ]
     },
     "execution_count": 6,
     "metadata": {},
     "output_type": "execute_result"
    }
   ],
   "source": [
    "password(\"@#$123ADab\")"
   ]
  },
  {
   "cell_type": "markdown",
   "id": "894b99e0-a4a7-43cb-ace0-a20f0e7872b4",
   "metadata": {},
   "source": [
    "Q2. Solve the below-given questions using at least one of the following:\n",
    "1. Lambda function\n",
    "2. Filter function\n",
    "3. Map function\n",
    "4. List Comprehension"
   ]
  },
  {
   "cell_type": "markdown",
   "id": "8a920e65-4db0-4a84-907e-e3ba580fa120",
   "metadata": {},
   "source": [
    ". Check if the string starts with a particular letter"
   ]
  },
  {
   "cell_type": "code",
   "execution_count": 10,
   "id": "34da518d-98eb-4418-86fa-181def2e68c9",
   "metadata": {},
   "outputs": [
    {
     "data": {
      "text/plain": [
       "True"
      ]
     },
     "execution_count": 10,
     "metadata": {},
     "output_type": "execute_result"
    }
   ],
   "source": [
    "string_p = lambda string,char : True if string[0]==char else False\n",
    "string_p(\"Sdfg\",'S')      \n",
    "        "
   ]
  },
  {
   "cell_type": "markdown",
   "id": "ca534bad-0e3b-4366-9c52-0fb681c626fc",
   "metadata": {},
   "source": [
    ".Check if the string is numeric"
   ]
  },
  {
   "cell_type": "code",
   "execution_count": 40,
   "id": "1884b291-4682-479a-90dc-c9b23cab89c2",
   "metadata": {},
   "outputs": [
    {
     "name": "stdout",
     "output_type": "stream",
     "text": [
      "The string is numeric.\n"
     ]
    }
   ],
   "source": [
    "string = \"12390.0\"\n",
    "is_numeric = all(char.isdigit() or char in ['-', '+', '.'] for char in string)\n",
    "if is_numeric:\n",
    "    print(\"The string is numeric.\")\n",
    "else:\n",
    "    print(\"The string is not numeric.\")\n"
   ]
  },
  {
   "cell_type": "markdown",
   "id": "d7e433be-b6b3-46d8-9077-08ca5d6103ef",
   "metadata": {},
   "source": [
    ".Sort a list of tuples having fruit names and their quantity. [(\"mango\",99),(\"orange\",80), (\"grapes\", 1000)]"
   ]
  },
  {
   "cell_type": "code",
   "execution_count": 14,
   "id": "805a8685-0f2a-47e9-85d8-c4ce36c9eaaf",
   "metadata": {},
   "outputs": [
    {
     "name": "stdout",
     "output_type": "stream",
     "text": [
      "[('grapes', 1000), ('mango', 99), ('orange', 80)]\n"
     ]
    }
   ],
   "source": [
    "list_1=[(\"mango\",99),(\"orange\",80), (\"grapes\", 1000)]\n",
    "new_list = sorted(list_1,key = lambda x: x[1],reverse=False)\n",
    "print(new_list)"
   ]
  },
  {
   "cell_type": "markdown",
   "id": "c7187663-7da0-4834-9b9b-c949a5d1e649",
   "metadata": {},
   "source": [
    ". Find the squares of numbers from 1 to 10"
   ]
  },
  {
   "cell_type": "code",
   "execution_count": 19,
   "id": "f019670d-1844-4c90-8656-d6dc109bacd4",
   "metadata": {},
   "outputs": [
    {
     "name": "stdout",
     "output_type": "stream",
     "text": [
      "[1, 4, 9, 16, 25, 36, 49, 64, 81, 100]\n"
     ]
    }
   ],
   "source": [
    "list_=[]\n",
    "for i in range(1,11):\n",
    "    list_.append(i)\n",
    "sqr_list = list(map(lambda x : x**2,list_))\n",
    "print(sqr_list)"
   ]
  },
  {
   "cell_type": "markdown",
   "id": "3475c3c7-9ae9-4623-92e6-d7db8ac35e7a",
   "metadata": {},
   "source": [
    ". Find the cube root of numbers from 1 to 10"
   ]
  },
  {
   "cell_type": "code",
   "execution_count": 21,
   "id": "f8964d86-cfe8-4a8c-94db-4709f9bdc05f",
   "metadata": {},
   "outputs": [
    {
     "name": "stdout",
     "output_type": "stream",
     "text": [
      "[1.0, 1.2599210498948732, 1.4422495703074083, 1.5874010519681994, 1.7099759466766968, 1.8171205928321397, 1.912931182772389, 2.0, 2.080083823051904, 2.154434690031884]\n"
     ]
    }
   ],
   "source": [
    "import math\n",
    "cube_list = list(map(lambda x : math.pow(x,1/3),list_))\n",
    "print(cube_list)"
   ]
  },
  {
   "cell_type": "markdown",
   "id": "29b53ebb-d7f4-4391-96b2-01d48a33c42c",
   "metadata": {},
   "source": [
    ". Check if a given number is even"
   ]
  },
  {
   "cell_type": "code",
   "execution_count": 24,
   "id": "c0801d32-c218-4428-a1c1-de345f497b5a",
   "metadata": {},
   "outputs": [
    {
     "data": {
      "text/plain": [
       "False"
      ]
     },
     "execution_count": 24,
     "metadata": {},
     "output_type": "execute_result"
    }
   ],
   "source": [
    "even_or_not=lambda x : True if x%2==0 else False\n",
    "even_or_not(78)"
   ]
  },
  {
   "cell_type": "markdown",
   "id": "463b9ae0-8ea9-4cdc-bb4c-c7d47a555ca6",
   "metadata": {},
   "source": [
    ". Filter odd numbers from the given list.\n",
    "[1,2,3,4,5,6,7,8,9,10]"
   ]
  },
  {
   "cell_type": "code",
   "execution_count": 32,
   "id": "c275a8fb-3288-421e-874e-0742bad916ad",
   "metadata": {},
   "outputs": [
    {
     "data": {
      "text/plain": [
       "[1, 3, 5, 7, 9]"
      ]
     },
     "execution_count": 32,
     "metadata": {},
     "output_type": "execute_result"
    }
   ],
   "source": [
    "list_=[1,2,3,4,5,6,7,8,9,10]\n",
    "list(filter(lambda x:x%2!=0,list_))"
   ]
  },
  {
   "cell_type": "markdown",
   "id": "fda10735-0af9-4edb-b3d2-fd0c27c2e5fb",
   "metadata": {},
   "source": [
    "Sort a list of integers into positive and negative integers lists.\n",
    "[1,2,3,4,5,6,-1,-2,-3,-4,-5,0]"
   ]
  },
  {
   "cell_type": "code",
   "execution_count": 37,
   "id": "509560c6-6360-47c8-8001-1cfcb82c4a2d",
   "metadata": {},
   "outputs": [
    {
     "name": "stdout",
     "output_type": "stream",
     "text": [
      "[1, 2, 3, 4, 5, 6]\n",
      "[-1, -2, -3, -4, -5]\n"
     ]
    }
   ],
   "source": [
    "# consider zero as a non_negative and non_postive integer \n",
    "list_ = [1,2,3,4,5,6,-1,-2,-3,-4,-5,0]\n",
    "postive_list = list(filter(lambda x : x>0,list_))\n",
    "print(postive_list)\n",
    "negative_list = list(filter(lambda x : x<0,list_))\n",
    "print(negative_list)\n"
   ]
  }
 ],
 "metadata": {
  "kernelspec": {
   "display_name": "Python 3 (ipykernel)",
   "language": "python",
   "name": "python3"
  },
  "language_info": {
   "codemirror_mode": {
    "name": "ipython",
    "version": 3
   },
   "file_extension": ".py",
   "mimetype": "text/x-python",
   "name": "python",
   "nbconvert_exporter": "python",
   "pygments_lexer": "ipython3",
   "version": "3.10.8"
  }
 },
 "nbformat": 4,
 "nbformat_minor": 5
}
