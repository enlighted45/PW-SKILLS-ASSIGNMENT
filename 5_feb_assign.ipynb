{
 "cells": [
  {
   "cell_type": "markdown",
   "id": "c19a2e9f-33eb-4662-9655-43d8bbbba4bb",
   "metadata": {},
   "source": [
    "Q1. Explain Class and Object with respect to Object-Oriented Programming. Give a suitable example."
   ]
  },
  {
   "cell_type": "markdown",
   "id": "abb46c6b-5358-446a-86f7-98e43aea15d0",
   "metadata": {},
   "source": [
    "Ans->class is nothing but rule like take example of a person which has property like name, age and gender  but consider name =yuvraj, age =19,gender = male then it is object of class person which statisfy it's rule"
   ]
  },
  {
   "cell_type": "markdown",
   "id": "95bfb56f-2a58-45e6-bcb8-388c57979cf2",
   "metadata": {},
   "source": [
    "Q2. Name the four pillars of OOPs."
   ]
  },
  {
   "cell_type": "markdown",
   "id": "34934292-1156-408f-ba69-7866bf750345",
   "metadata": {},
   "source": [
    "Ans.>four pillar of OOPS are 1.>Encapsulation,2.> Abstraction,3.>Inheritance,4.> Polymorphism"
   ]
  },
  {
   "cell_type": "markdown",
   "id": "825ce980-62d3-4e3a-aaaf-176fd175a067",
   "metadata": {},
   "source": [
    "Q3. Explain why the __init__() function is used. Give a suitable example."
   ]
  },
  {
   "cell_type": "markdown",
   "id": "0d329055-9e34-4f56-9cff-a1495cd97705",
   "metadata": {},
   "source": [
    "Ans.> init() it is used to take data or value in class or also known as constructor"
   ]
  },
  {
   "cell_type": "code",
   "execution_count": 12,
   "id": "e4c1081d-0c96-424a-83ef-e6735bc3f88c",
   "metadata": {},
   "outputs": [],
   "source": [
    "class person:\n",
    "    def __init__(self,name,age,gender):\n",
    "        self.name=name\n",
    "        self.age=age\n",
    "        self.gender=gender\n",
    "    def person_detail(self):\n",
    "        return self.name , self.age, self.gender"
   ]
  },
  {
   "cell_type": "code",
   "execution_count": 13,
   "id": "112a7eff-b749-41ee-813a-ab86a6c21490",
   "metadata": {},
   "outputs": [
    {
     "name": "stdout",
     "output_type": "stream",
     "text": [
      "ganguly\n",
      "20\n",
      "male\n",
      "('ganguly', 20, 'male')\n"
     ]
    }
   ],
   "source": [
    "person_obj = person('ganguly',20,'male')\n",
    "print(person_obj.name)\n",
    "print(person_obj.age)\n",
    "print(person_obj.gender)\n",
    "print(person_obj.person_detail())"
   ]
  },
  {
   "cell_type": "markdown",
   "id": "325a2e10-186c-460b-b66a-c185d4454e6d",
   "metadata": {},
   "source": [
    "Q4. Why self is used in OOPs?"
   ]
  },
  {
   "cell_type": "markdown",
   "id": "3db01de7-d42c-4fa7-8ede-72d209305680",
   "metadata": {},
   "source": [
    "Ans.>self keyword is not reserve keyword but it is used for object method  , but it makes it easier to distinguish between instance attributes  "
   ]
  },
  {
   "cell_type": "markdown",
   "id": "8626b637-8aab-4aa8-be8a-372d85cf2155",
   "metadata": {},
   "source": [
    "Q5. What is inheritance? Give an example for each type of inheritance."
   ]
  },
  {
   "cell_type": "markdown",
   "id": "4b9fe893-02eb-4759-8875-066a8caababc",
   "metadata": {},
   "source": [
    "Inheritance is property in which parent class  method  is being used by child class"
   ]
  },
  {
   "cell_type": "markdown",
   "id": "d2e7dd94-b306-4f0f-9d04-55d094c61e11",
   "metadata": {},
   "source": [
    "Multiple inheritance is inheriting the property and method of other class \n",
    "and it is different from multilevel inheriting in multilevel inheriting you make parent class and then its child class and then it own subclass."
   ]
  },
  {
   "cell_type": "code",
   "execution_count": 16,
   "id": "a8433e47-3cb9-4215-9132-1f83dc627e2e",
   "metadata": {},
   "outputs": [],
   "source": [
    "## multiple inheritance\n",
    "class parent1:\n",
    "    pass\n",
    "\n",
    "class parent2:\n",
    "    pass\n",
    "class child(parent1,parent2):\n",
    "    pass"
   ]
  },
  {
   "cell_type": "code",
   "execution_count": 17,
   "id": "f9b8c909-ad39-423e-86d0-c9edc93686d7",
   "metadata": {},
   "outputs": [],
   "source": [
    "##multilevel inheritance\n",
    "class parent:\n",
    "    pass\n",
    "class child(parent):\n",
    "    pass\n",
    "class grand_child(child):\n",
    "    pass"
   ]
  },
  {
   "cell_type": "code",
   "execution_count": null,
   "id": "9a8272f1-4023-414a-881f-02e33e58314b",
   "metadata": {},
   "outputs": [],
   "source": []
  }
 ],
 "metadata": {
  "kernelspec": {
   "display_name": "Python 3 (ipykernel)",
   "language": "python",
   "name": "python3"
  },
  "language_info": {
   "codemirror_mode": {
    "name": "ipython",
    "version": 3
   },
   "file_extension": ".py",
   "mimetype": "text/x-python",
   "name": "python",
   "nbconvert_exporter": "python",
   "pygments_lexer": "ipython3",
   "version": "3.10.8"
  }
 },
 "nbformat": 4,
 "nbformat_minor": 5
}
